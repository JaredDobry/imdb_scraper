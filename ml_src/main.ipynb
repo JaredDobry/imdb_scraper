{
 "cells": [
  {
   "cell_type": "markdown",
   "metadata": {},
   "source": [
    "# Movie Popularity Predictor"
   ]
  },
  {
   "cell_type": "markdown",
   "metadata": {},
   "source": [
    "## Imports and Global Variables"
   ]
  },
  {
   "cell_type": "code",
   "execution_count": null,
   "metadata": {},
   "outputs": [],
   "source": [
    "import os\n",
    "import utils\n",
    "import metrics\n",
    "import pathlib\n",
    "import numpy as np\n",
    "import model_runner as mr\n",
    "\n",
    "PARENT_PATH = pathlib.Path(os.getcwd()).parent.resolve()\n",
    "DB_PATH = PARENT_PATH/\"StaticDB\"\n",
    "MODEL_PATH = PARENT_PATH/\"models\"\n",
    "print(PARENT_PATH)"
   ]
  },
  {
   "cell_type": "markdown",
   "metadata": {},
   "source": [
    "## Data Preprocessing"
   ]
  },
  {
   "cell_type": "code",
   "execution_count": null,
   "metadata": {},
   "outputs": [],
   "source": [
    "data_name = \"DATA\"\n",
    "train_df = utils.unpickle_df(DB_PATH/\"train_movies.pickle\")\n",
    "\"Unpacked training data\""
   ]
  },
  {
   "cell_type": "markdown",
   "metadata": {},
   "source": [
    "## Model Customization"
   ]
  },
  {
   "cell_type": "markdown",
   "metadata": {},
   "source": [
    "### Included Features"
   ]
  },
  {
   "cell_type": "code",
   "execution_count": null,
   "metadata": {},
   "outputs": [],
   "source": [
    "feature_tup = (\n",
    "    metrics.Feature((\"budget\",), metrics.get_numeric),\n",
    "    metrics.Feature((\"belongs_to_collection\",), metrics.get_belongs_to_collection),\n",
    "    metrics.Feature((\"genres\",), metrics.get_genres),\n",
    "    metrics.Feature((\"original_language\",), metrics.get_original_language),\n",
    "    # metrics.Feature((\"popularity\",), metrics.get_numeric),\n",
    "    metrics.Feature((\"release_date\",), metrics.get_release_year),\n",
    "    metrics.Feature((\"revenue\",), metrics.get_numeric),\n",
    "    metrics.Feature((\"runtime\",), metrics.get_numeric),\n",
    "    metrics.Feature((\"spoken_languages\",), metrics.get_num_spoken_languages),\n",
    "    # metrics.Feature((\"vote_average\", \"vote_count\",), metrics.get_vote_popularity),\n",
    ")\n",
    "\"Defined feature tuple\""
   ]
  },
  {
   "cell_type": "markdown",
   "metadata": {},
   "source": [
    "### ML Models"
   ]
  },
  {
   "cell_type": "code",
   "execution_count": null,
   "metadata": {},
   "outputs": [],
   "source": [
    "# Linear Regression\n",
    "from sklearn.linear_model import LinearRegression\n",
    "model_type = LinearRegression(normalize=True)\n",
    "\n",
    "empty_model_type = LinearRegression\n",
    "params = {\"normalize\": [True, False]}\n",
    "\n",
    "is_grid_search = False\n",
    "model_name = \"LinearRegression\""
   ]
  },
  {
   "cell_type": "code",
   "execution_count": null,
   "metadata": {},
   "outputs": [],
   "source": [
    "# Ridge Regression\n",
    "from sklearn.linear_model import Ridge\n",
    "model_type = Ridge(alpha=1, normalize=True)\n",
    "\n",
    "empty_model_type = Ridge\n",
    "params = {\"alpha\": np.logspace(-9, 9, num=1000), \"normalize\": [True, False]}\n",
    "\n",
    "is_grid_search = False\n",
    "model_name = \"RidgeRegression\""
   ]
  },
  {
   "cell_type": "code",
   "execution_count": null,
   "metadata": {},
   "outputs": [],
   "source": [
    "# Decision Tree Regressor\n",
    "from sklearn.tree import DecisionTreeRegressor\n",
    "model_type = DecisionTreeRegressor()\n",
    "\n",
    "params = {\n",
    "    \"splitter\": [\"best\"],\n",
    "    \"max_depth\": np.linspace(1, 15, 5, dtype=int),\n",
    "    \"min_samples_leaf\": np.linspace(1, 10, 5, dtype=int),\n",
    "    \"min_weight_fraction_leaf\": np.linspace(0.1, 0.9, 3, dtype=int),\n",
    "    \"max_features\": [\"auto\"],\n",
    "    \"max_leaf_nodes\": [None] + list(np.linspace(10, 90, 3, dtype=int))\n",
    "}\n",
    "empty_model_type = DecisionTreeRegressor\n",
    "\n",
    "is_grid_search = False\n",
    "model_name = \"DecisionTreeRegressor\""
   ]
  },
  {
   "cell_type": "code",
   "execution_count": null,
   "metadata": {},
   "outputs": [],
   "source": [
    "# Random Forest Regressor\n",
    "from sklearn.ensemble import RandomForestRegressor\n",
    "model_type = RandomForestRegressor()\n",
    "\n",
    "params = {\n",
    "    \"max_depth\": np.linspace(1, 15, 5, dtype=int),\n",
    "    \"min_samples_leaf\": np.linspace(1, 10, 5, dtype=int),\n",
    "    \"max_features\": [\"auto\"],\n",
    "    \"max_leaf_nodes\": [None] + list(np.linspace(10, 90, 3, dtype=int))\n",
    "}\n",
    "empty_model_type = RandomForestRegressor\n",
    "\n",
    "is_grid_search = False\n",
    "model_name = \"RandomForestRegressor\""
   ]
  },
  {
   "cell_type": "code",
   "execution_count": null,
   "metadata": {},
   "outputs": [],
   "source": [
    "# Support Vector Machine (SVM) Regressor\n",
    "from sklearn.svm import LinearSVR\n",
    "model_type = LinearSVR(epsilon=1e-1, tol=0.1, C=2, max_iter=5000)\n",
    "\n",
    "params = {\n",
    "    \"tol\": np.linspace(1e-5, 1e-3, 5, dtype=int),\n",
    "    \"epsilon\": np.linspace(0.00001, 1e-2, 5, dtype=int),\n",
    "    \"C\": np.linspace(1, 10, 3, dtype=int),\n",
    "    \"fit_intercept\": [True, False],\n",
    "    \"intercept_scaling\": np.linspace(1, 10, 5, dtype=int),    \n",
    "}\n",
    "empty_model_type = LinearSVR\n",
    "\n",
    "is_grid_search = False\n",
    "model_name = \"SVMRegressor\""
   ]
  },
  {
   "cell_type": "code",
   "execution_count": null,
   "metadata": {},
   "outputs": [],
   "source": [
    "# Grid search\n",
    "from sklearn.model_selection import GridSearchCV\n",
    "model_type = GridSearchCV(empty_model_type(), params, cv=10)\n",
    "\n",
    "is_grid_search = True\n",
    "model_name = \"GridSearch_\" + model_name"
   ]
  },
  {
   "cell_type": "markdown",
   "metadata": {},
   "source": [
    "## Fit the Model"
   ]
  },
  {
   "cell_type": "code",
   "execution_count": null,
   "metadata": {},
   "outputs": [],
   "source": [
    "import warnings\n",
    "\n",
    "model = mr.ModelRunner(model_type, is_grid_search=is_grid_search)\n",
    "if is_grid_search:\n",
    "    with warnings.catch_warnings():\n",
    "        warnings.simplefilter(\"ignore\")\n",
    "        model.fit(train_df, feature_tup)\n",
    "        print(\"Best Cross Validation Model Score: \", model.get_best_score())\n",
    "        print(\"Params for Best Model Score\", model.get_best_params())\n",
    "else:\n",
    "    model.fit(train_df, feature_tup)"
   ]
  },
  {
   "cell_type": "markdown",
   "metadata": {},
   "source": [
    "## Save Model as Pickle File"
   ]
  },
  {
   "cell_type": "code",
   "execution_count": null,
   "metadata": {},
   "outputs": [],
   "source": [
    "from datetime import datetime\n",
    "\n",
    "now = datetime.now()\n",
    "file = MODEL_PATH/(data_name + \"_\" + model_name + \"_\" + now.strftime(\"%m_%d_%Y__%H_%M\"))\n",
    "model.save(file)\n",
    "file"
   ]
  },
  {
   "cell_type": "markdown",
   "metadata": {},
   "source": [
    "## Run the Model"
   ]
  },
  {
   "cell_type": "markdown",
   "metadata": {},
   "source": [
    "### Load the Model from Pickle"
   ]
  },
  {
   "cell_type": "code",
   "execution_count": null,
   "metadata": {},
   "outputs": [],
   "source": [
    "file = MODEL_PATH/\"DATA_DecisionTreeRegressor_11_19_2021__12_01\"\n",
    "model = mr.load_model(file)"
   ]
  },
  {
   "cell_type": "markdown",
   "metadata": {},
   "source": [
    "### Predict and Score Testing Data"
   ]
  },
  {
   "cell_type": "code",
   "execution_count": null,
   "metadata": {},
   "outputs": [],
   "source": [
    "test_df = utils.unpickle_df(DB_PATH/\"test_movies.pickle\")\n",
    "predicted_views_per_day =model.predict(test_df)\n",
    "print(\"Model Predictions Score (R^2):\", model.get_score(test_df))"
   ]
  },
  {
   "cell_type": "markdown",
   "metadata": {},
   "source": [
    "### Explain Row of Testing Data"
   ]
  },
  {
   "cell_type": "code",
   "execution_count": null,
   "metadata": {},
   "outputs": [],
   "source": [
    "import random\n",
    "\n",
    "random_rows = tuple(random.sample(range(0, len(test_df)), 10))\n",
    "model.explain_notebook(train_df, test_df, rows=random_rows)"
   ]
  }
 ],
 "metadata": {
  "interpreter": {
   "hash": "5c94d941f04ee62c76b688b2d8fec5553ee12d95851faa3b96fb3b1540a6ecbb"
  },
  "kernelspec": {
   "display_name": "Python 3.8.5 64-bit ('base': conda)",
   "language": "python",
   "name": "python3"
  },
  "language_info": {
   "codemirror_mode": {
    "name": "ipython",
    "version": 3
   },
   "file_extension": ".py",
   "mimetype": "text/x-python",
   "name": "python",
   "nbconvert_exporter": "python",
   "pygments_lexer": "ipython3",
   "version": "3.8.5"
  },
  "orig_nbformat": 4
 },
 "nbformat": 4,
 "nbformat_minor": 2
}
