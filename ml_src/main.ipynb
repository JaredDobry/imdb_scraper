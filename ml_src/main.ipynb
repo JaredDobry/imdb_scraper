{
 "cells": [
  {
   "cell_type": "markdown",
   "metadata": {},
   "source": [
    "# Movie Popularity Predictor"
   ]
  },
  {
   "cell_type": "markdown",
   "metadata": {},
   "source": [
    "## Imports and Global Variables"
   ]
  },
  {
   "cell_type": "code",
   "execution_count": null,
   "metadata": {},
   "outputs": [],
   "source": [
    "import os\n",
    "import utils\n",
    "import metrics\n",
    "import pathlib\n",
    "import numpy as np\n",
    "import pandas as pd\n",
    "import model_runner as mr\n",
    "\n",
    "PARENT_PATH = pathlib.Path(os.getcwd()).parent.resolve()\n",
    "DB_PATH = PARENT_PATH/\"StaticDB\"\n",
    "MODEL_PATH = PARENT_PATH/\"models\"\n",
    "print(PARENT_PATH)"
   ]
  },
  {
   "cell_type": "markdown",
   "metadata": {},
   "source": [
    "## Data Preprocessing"
   ]
  },
  {
   "cell_type": "code",
   "execution_count": null,
   "metadata": {},
   "outputs": [],
   "source": [
    "train_df_pickled = utils.unpickle_df(DB_PATH/\"train_movies.pickle\")\n",
    "pre_cleaned_len = len(train_df_pickled)\n",
    "train_df_pickled = utils.rm_rows_missing_data(train_df_pickled, 3)\n",
    "train_df, validation_df = utils.train_test_split(train_df_pickled, 20, 42)\n",
    "\n",
    "data_name = f\"noextras_datalen_{len(train_df)}\"\n",
    "print(f\"Unpacked {pre_cleaned_len} rows of training data. Cut down dataset to {len(train_df)+len(validation_df)} training rows.\"\n",
    "       \" 20% will be dedicated to validation.\")"
   ]
  },
  {
   "cell_type": "markdown",
   "metadata": {},
   "source": [
    "## Model Customization"
   ]
  },
  {
   "cell_type": "markdown",
   "metadata": {},
   "source": [
    "### Included Features"
   ]
  },
  {
   "cell_type": "code",
   "execution_count": null,
   "metadata": {},
   "outputs": [],
   "source": [
    "feature_tup = (\n",
    "    metrics.Feature((\"budget\",), metrics.get_numeric),                              # has zeros ro remove\n",
    "    metrics.Feature((\"belongs_to_collection\",), metrics.get_belongs_to_collection), # not a strike\n",
    "    metrics.Feature((\"genres\",), metrics.get_genres),                               # has some empty lists to remove\n",
    "    metrics.Feature((\"original_language\",), metrics.get_original_language),         # cannot find if there are emptys\n",
    "    metrics.Feature((\"views_per_day\",), metrics.get_numeric),\n",
    "    metrics.Feature((\"release_date\",), metrics.get_release_year),                   # at least has has null values, idk if there are zeros\n",
    "    metrics.Feature((\"revenue\",), metrics.get_numeric),                             # has zero values\n",
    "    metrics.Feature((\"runtime\",), metrics.get_numeric),                             # could have zeros, int64\n",
    "    metrics.Feature((\"spoken_languages\",), metrics.get_num_spoken_languages),       # has some empty lists \n",
    "    metrics.Feature((\"vote_average\", \"vote_count\",), metrics.get_vote_popularity),\n",
    ")\n",
    "f\"Defined feature tuple. Using features {[keys for feature in feature_tup for keys in feature.feature_keys]}\""
   ]
  },
  {
   "cell_type": "markdown",
   "metadata": {},
   "source": [
    "### Correlation Matrix between Training Data and Output"
   ]
  },
  {
   "cell_type": "code",
   "execution_count": null,
   "metadata": {},
   "outputs": [],
   "source": [
    "print(mr.ModelRunner.get_corr_matrix(train_df, feature_tup, \"popularity\").abs().sort_values(ascending=False))"
   ]
  },
  {
   "cell_type": "markdown",
   "metadata": {},
   "source": [
    "### ML Models\n",
    "Please run ONE model cell below. If a grid search is desired, run the model cell first, then select the grid search cell. This will run a grid search for the chosen model. Once selected, run the training cell."
   ]
  },
  {
   "cell_type": "code",
   "execution_count": null,
   "metadata": {},
   "outputs": [],
   "source": [
    "# Linear Regression\n",
    "from sklearn.linear_model import LinearRegression\n",
    "model_type = LinearRegression(normalize=True)\n",
    "\n",
    "empty_model_type = LinearRegression\n",
    "params = {\"normalize\": [True, False]}\n",
    "\n",
    "is_grid_search = False\n",
    "model_name = \"LinearRegression\""
   ]
  },
  {
   "cell_type": "code",
   "execution_count": null,
   "metadata": {},
   "outputs": [],
   "source": [
    "# Ridge Regression\n",
    "from sklearn.linear_model import Ridge\n",
    "model_type = Ridge(alpha=0.14, normalize=True)\n",
    "\n",
    "empty_model_type = Ridge\n",
    "params = {\"alpha\": np.logspace(-9, 9, num=1000), \"normalize\": [True, False]}\n",
    "\n",
    "is_grid_search = False\n",
    "model_name = \"RidgeRegression\""
   ]
  },
  {
   "cell_type": "code",
   "execution_count": null,
   "metadata": {},
   "outputs": [],
   "source": [
    "# Decision Tree Regressor\n",
    "from sklearn.tree import DecisionTreeRegressor\n",
    "model_type = DecisionTreeRegressor(max_depth=8, max_features='auto', max_leaf_nodes=50, min_samples_leaf=5, min_weight_fraction_leaf=0, splitter='best')\n",
    "\n",
    "params = {\n",
    "    \"splitter\": [\"best\"],\n",
    "    \"max_depth\": np.linspace(1, 15, 5, dtype=int),\n",
    "    \"min_samples_leaf\": np.linspace(1, 10, 5, dtype=int),\n",
    "    \"min_weight_fraction_leaf\": np.linspace(0.1, 0.9, 3, dtype=int),\n",
    "    \"max_features\": [\"auto\"],\n",
    "    \"max_leaf_nodes\": [None] + list(np.linspace(10, 90, 3, dtype=int))\n",
    "}\n",
    "empty_model_type = DecisionTreeRegressor\n",
    "\n",
    "is_grid_search = False\n",
    "model_name = \"DecisionTreeRegressor\""
   ]
  },
  {
   "cell_type": "code",
   "execution_count": null,
   "metadata": {},
   "outputs": [],
   "source": [
    "# Random Forest Regressor\n",
    "from sklearn.ensemble import RandomForestRegressor\n",
    "model_type = RandomForestRegressor(max_depth=8, max_features=\"auto\", max_leaf_nodes=50, min_samples_leaf=20)\n",
    "\n",
    "params = {\n",
    "    \"max_depth\": np.linspace(1, 15, 5, dtype=int),                      # max depth of tree\n",
    "    \"min_samples_leaf\": np.linspace(1, 10, 5, dtype=int),               # min num of samples to split a node\n",
    "    \"max_features\": [\"auto\"],                                           # number of features when looking for best split\n",
    "    \"max_leaf_nodes\": [None] + list(np.linspace(10, 90, 3, dtype=int))  # maximum number of leaf nodes\n",
    "}\n",
    "empty_model_type = RandomForestRegressor\n",
    "\n",
    "is_grid_search = False\n",
    "model_name = \"RandomForestRegressor\""
   ]
  },
  {
   "cell_type": "code",
   "execution_count": null,
   "metadata": {},
   "outputs": [],
   "source": [
    "# Support Vector Machine (SVM) Regressor\n",
    "from sklearn.svm import LinearSVR\n",
    "model_type = LinearSVR(epsilon=1e-1, tol=0.1, C=2, max_iter=5000)\n",
    "\n",
    "params = {\n",
    "    \"tol\": np.linspace(1e-5, 1e-3, 5, dtype=float),\n",
    "    \"epsilon\": np.linspace(0.00001, 1e-2, 5, dtype=float),\n",
    "    \"C\": np.linspace(1, 10, 3, dtype=int),\n",
    "    \"fit_intercept\": [True, False],\n",
    "    \"intercept_scaling\": np.linspace(1, 10, 5, dtype=int),    \n",
    "}\n",
    "empty_model_type = LinearSVR\n",
    "\n",
    "is_grid_search = False\n",
    "model_name = \"SVMRegressor\""
   ]
  },
  {
   "cell_type": "code",
   "execution_count": null,
   "metadata": {},
   "outputs": [],
   "source": [
    "# Grid search\n",
    "from sklearn.model_selection import GridSearchCV\n",
    "model_type = GridSearchCV(empty_model_type(), params, cv=10)\n",
    "\n",
    "is_grid_search = True\n",
    "model_name = \"GridSearch_\" + model_name"
   ]
  },
  {
   "cell_type": "markdown",
   "metadata": {},
   "source": [
    "## Fit the Model"
   ]
  },
  {
   "cell_type": "code",
   "execution_count": null,
   "metadata": {},
   "outputs": [],
   "source": [
    "import warnings\n",
    "\n",
    "model = mr.ModelRunner(model_type, is_grid_search=is_grid_search, prediction_col=\"popularity\")\n",
    "if is_grid_search:\n",
    "    with warnings.catch_warnings():\n",
    "        warnings.simplefilter(\"ignore\")\n",
    "        model.fit(train_df, feature_tup)\n",
    "        print(\"Best Cross Validation Model Score: \", model.get_best_score())\n",
    "        print(\"Params for Best Model Score\", model.get_best_params())\n",
    "else:\n",
    "    model.fit(train_df, feature_tup)"
   ]
  },
  {
   "cell_type": "markdown",
   "metadata": {},
   "source": [
    "## Save Model as Pickle File"
   ]
  },
  {
   "cell_type": "code",
   "execution_count": null,
   "metadata": {},
   "outputs": [],
   "source": [
    "from datetime import datetime\n",
    "\n",
    "now = datetime.now()\n",
    "file = MODEL_PATH/(data_name + \"_\" + model_name + \"_\" + now.strftime(\"%m_%d_%Y__%H_%M\"))\n",
    "model.save(file)\n",
    "file"
   ]
  },
  {
   "cell_type": "markdown",
   "metadata": {},
   "source": [
    "## Validate the Model"
   ]
  },
  {
   "cell_type": "code",
   "execution_count": null,
   "metadata": {},
   "outputs": [],
   "source": [
    "predicted_views_per_day = model.predict(validation_df)\n",
    "print(\"Model Cross Validation Score (R^2):\", model.get_score(validation_df))"
   ]
  },
  {
   "cell_type": "markdown",
   "metadata": {},
   "source": [
    "## Run the Model"
   ]
  },
  {
   "cell_type": "markdown",
   "metadata": {},
   "source": [
    "### Load the Model from Pickle (Optional)"
   ]
  },
  {
   "cell_type": "code",
   "execution_count": null,
   "metadata": {},
   "outputs": [],
   "source": [
    "# file = MODEL_PATH/\"maxStrikes_2_noextras_datalen_7229_GridSearch_RandomForestRegressor_11_28_2021__13_32\"\n",
    "file = MODEL_PATH/\"DATA_GridSearch_RandomForestRegressor_11_21_2021__11_13\"\n",
    "model = mr.load_model(file)"
   ]
  },
  {
   "cell_type": "markdown",
   "metadata": {},
   "source": [
    "### Predict Testing Data"
   ]
  },
  {
   "cell_type": "code",
   "execution_count": null,
   "metadata": {},
   "outputs": [],
   "source": [
    "test_df = utils.unpickle_df(DB_PATH/\"test_movies.pickle\")\n",
    "test_df = utils.rm_rows_missing_data(test_df, 2)\n",
    "predicted_views_per_day = model.predict(test_df)"
   ]
  },
  {
   "cell_type": "markdown",
   "metadata": {},
   "source": [
    "### Explain Row of Testing Data"
   ]
  },
  {
   "cell_type": "code",
   "execution_count": null,
   "metadata": {},
   "outputs": [],
   "source": [
    "import random\n",
    "\n",
    "random_rows = tuple(random.sample(range(0, len(test_df)), 10))\n",
    "model.explain_notebook(train_df, test_df, rows=random_rows)"
   ]
  }
 ],
 "metadata": {
  "interpreter": {
   "hash": "52ca57cff609f86b387a57231df027248f0348b1724fca13845f8b728cb049a7"
  },
  "kernelspec": {
   "display_name": "Python 3.8.5 64-bit",
   "name": "python3"
  },
  "language_info": {
   "codemirror_mode": {
    "name": "ipython",
    "version": 3
   },
   "file_extension": ".py",
   "mimetype": "text/x-python",
   "name": "python",
   "nbconvert_exporter": "python",
   "pygments_lexer": "ipython3",
   "version": "3.8.5"
  },
  "orig_nbformat": 4
 },
 "nbformat": 4,
 "nbformat_minor": 2
}
